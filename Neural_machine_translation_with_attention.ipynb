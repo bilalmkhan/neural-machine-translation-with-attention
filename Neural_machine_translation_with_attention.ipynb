{
 "cells": [
  {
   "cell_type": "markdown",
   "metadata": {},
   "source": [
    "# Neural Machine Translation\n",
    "\n",
    "\n",
    "The goal of this project is to build a Neural Machine Translation (NMT) model to translate human readable dates (\"25th of June, 2009\") into machine readable dates (\"2009-06-25\") using an attention model. The model built here could be used to translate from one language to another, such as translating from English to Hindi. However, language translation requires massive datasets and usually takes days of training on GPUs. Instead, we undertake a simpler \"date translation\" task. \n",
    "\n",
    "The network will input a date written in a variety of possible formats (*e.g. \"the 29th of August 1958\", \"03/30/1968\", \"24 JUNE 1987\"*) and translate them into standardized, machine readable dates (*e.g. \"1958-08-29\", \"1968-03-30\", \"1987-06-24\"*). We will have the network learn to output dates in the common machine-readable format YYYY-MM-DD.\n",
    "\n",
    "*This project was completed as an assignment for Deep Learning specialization on Coursera.*"
   ]
  },
  {
   "cell_type": "markdown",
   "metadata": {},
   "source": [
    "## 1. Load Packages"
   ]
  },
  {
   "cell_type": "code",
   "execution_count": 1,
   "metadata": {},
   "outputs": [
    {
     "name": "stderr",
     "output_type": "stream",
     "text": [
      "Using TensorFlow backend.\n"
     ]
    }
   ],
   "source": [
    "from keras.layers import Bidirectional, Concatenate, Permute, Dot, Input, LSTM, Multiply\n",
    "from keras.layers import RepeatVector, Dense, Activation, Lambda\n",
    "from keras.optimizers import Adam\n",
    "from keras.utils import to_categorical\n",
    "from keras.models import load_model, Model\n",
    "import keras.backend as K\n",
    "import numpy as np\n",
    "\n",
    "from nmt_utils import *\n",
    "import matplotlib.pyplot as plt\n",
    "%matplotlib inline"
   ]
  },
  {
   "cell_type": "markdown",
   "metadata": {},
   "source": [
    "## 2. Dataset\n",
    "\n",
    "We will train the model on a dataset of 10000 human readable dates and their equivalent, standardized, machine readable dates. The dataset is generated using the Faker API. (See `nmt_utils.py` for details.) Below, we load the dataset and print some examples."
   ]
  },
  {
   "cell_type": "code",
   "execution_count": 2,
   "metadata": {},
   "outputs": [
    {
     "name": "stderr",
     "output_type": "stream",
     "text": [
      "100%|██████████| 10000/10000 [00:00<00:00, 13059.69it/s]\n"
     ]
    }
   ],
   "source": [
    "m = 10000\n",
    "dataset, human_vocab, machine_vocab, inv_machine_vocab = load_dataset(m)"
   ]
  },
  {
   "cell_type": "code",
   "execution_count": 3,
   "metadata": {},
   "outputs": [
    {
     "data": {
      "text/plain": [
       "[('9 may 1998', '1998-05-09'),\n",
       " ('10.09.70', '1970-09-10'),\n",
       " ('4/28/90', '1990-04-28'),\n",
       " ('thursday january 26 1995', '1995-01-26'),\n",
       " ('monday march 7 1983', '1983-03-07'),\n",
       " ('sunday may 22 1988', '1988-05-22'),\n",
       " ('tuesday july 8 2008', '2008-07-08'),\n",
       " ('08 sep 1999', '1999-09-08'),\n",
       " ('1 jan 1981', '1981-01-01'),\n",
       " ('monday may 22 1995', '1995-05-22')]"
      ]
     },
     "execution_count": 3,
     "metadata": {},
     "output_type": "execute_result"
    }
   ],
   "source": [
    "dataset[:10]"
   ]
  },
  {
   "cell_type": "markdown",
   "metadata": {},
   "source": [
    "We have loaded:\n",
    "- `dataset`: a list of tuples of (human readable date, machine readable date)\n",
    "- `human_vocab`: a python dictionary mapping all characters used in the human readable dates to an integer-valued index \n",
    "- `machine_vocab`: a python dictionary mapping all characters used in machine readable dates to an integer-valued index. These indices are not necessarily consistent with `human_vocab`. \n",
    "- `inv_machine_vocab`: the inverse dictionary of `machine_vocab`, mapping from indices back to characters. "
   ]
  },
  {
   "cell_type": "markdown",
   "metadata": {},
   "source": [
    "## 3. Preprocessing\n",
    "In order to feed the data to the neural network, we first need to tokenize it and convert it into one-hot vectors. The function `string_to_int` maps a string to a list of integers. The function `preprocess_data` converts the list of integers to a matrix of one-hot vectors."
   ]
  },
  {
   "cell_type": "code",
   "execution_count": 4,
   "metadata": {},
   "outputs": [],
   "source": [
    "def string_to_int(string, length, vocab):\n",
    "    \"\"\"\n",
    "    Converts all strings in the vocabulary into a list of integers representing the positions of the\n",
    "    input string's characters in the \"vocab\"\n",
    "    \n",
    "    Arguments:\n",
    "    string -- input string, e.g. 'Wed 10 Jul 2007'\n",
    "    length -- the number of time steps you'd like, determines if the output will be padded or cut\n",
    "    vocab -- vocabulary, dictionary used to index every character of your \"string\"\n",
    "    \n",
    "    Returns:\n",
    "    rep -- list of integers (or '<unk>') (size = length) representing the position of the string's character in the vocabulary\n",
    "    \"\"\"\n",
    "    \n",
    "    #make lower to standardize\n",
    "    string = string.lower()\n",
    "    string = string.replace(',','')\n",
    "    \n",
    "    if len(string) > length:\n",
    "        string = string[:length]\n",
    "        \n",
    "    rep = list(map(lambda x: vocab.get(x, '<unk>'), string))\n",
    "    \n",
    "    if len(string) < length:\n",
    "        rep += [vocab['<pad>']] * (length - len(string))\n",
    "    \n",
    "    #print (rep)\n",
    "    return rep"
   ]
  },
  {
   "cell_type": "code",
   "execution_count": 5,
   "metadata": {},
   "outputs": [],
   "source": [
    "def int_to_string(ints, inv_vocab):\n",
    "    \"\"\"\n",
    "    Output a machine readable list of characters based on a list of indexes in the machine's vocabulary\n",
    "    \n",
    "    Arguments:\n",
    "    ints -- list of integers representing indexes in the machine's vocabulary\n",
    "    inv_vocab -- dictionary mapping machine readable indexes to machine readable characters \n",
    "    \n",
    "    Returns:\n",
    "    l -- list of characters corresponding to the indexes of ints thanks to the inv_vocab mapping\n",
    "    \"\"\"\n",
    "    \n",
    "    l = [inv_vocab[i] for i in ints]\n",
    "    return l"
   ]
  },
  {
   "cell_type": "code",
   "execution_count": 6,
   "metadata": {},
   "outputs": [],
   "source": [
    "def preprocess_data(dataset, human_vocab, machine_vocab, Tx, Ty):\n",
    "    \n",
    "    X, Y = zip(*dataset)\n",
    "    \n",
    "    X = np.array([string_to_int(i, Tx, human_vocab) for i in X])\n",
    "    Y = [string_to_int(t, Ty, machine_vocab) for t in Y]\n",
    "    \n",
    "    Xoh = np.array(list(map(lambda x: to_categorical(x, num_classes=len(human_vocab)), X)))\n",
    "    Yoh = np.array(list(map(lambda x: to_categorical(x, num_classes=len(machine_vocab)), Y)))\n",
    "\n",
    "    return X, np.array(Y), Xoh, Yoh"
   ]
  },
  {
   "cell_type": "code",
   "execution_count": 7,
   "metadata": {},
   "outputs": [
    {
     "name": "stdout",
     "output_type": "stream",
     "text": [
      "X.shape: (10000, 30)\n",
      "Y.shape: (10000, 10)\n",
      "Xoh.shape: (10000, 30, 37)\n",
      "Yoh.shape: (10000, 10, 11)\n"
     ]
    }
   ],
   "source": [
    "Tx = 30\n",
    "Ty = 10\n",
    "X, Y, Xoh, Yoh = preprocess_data(dataset, human_vocab, machine_vocab, Tx, Ty)\n",
    "\n",
    "print(\"X.shape:\", X.shape)\n",
    "print(\"Y.shape:\", Y.shape)\n",
    "print(\"Xoh.shape:\", Xoh.shape)\n",
    "print(\"Yoh.shape:\", Yoh.shape)"
   ]
  },
  {
   "cell_type": "markdown",
   "metadata": {},
   "source": [
    "We now have:\n",
    "- `X`: a processed version of the human readable dates in the training set, where each character is replaced by an index mapped to the character via `human_vocab`. Each date is further padded to $T_x$ values with a special character (< pad >). `X.shape = (m, Tx)`\n",
    "- `Y`: a processed version of the machine readable dates in the training set, where each character is replaced by the index it is mapped to in `machine_vocab`. You should have `Y.shape = (m, Ty)`. \n",
    "- `Xoh`: one-hot version of `X`, the \"1\" entry's index is mapped to the character thanks to `human_vocab`. `Xoh.shape = (m, Tx, len(human_vocab))`\n",
    "- `Yoh`: one-hot version of `Y`, the \"1\" entry's index is mapped to the character thanks to `machine_vocab`. `Yoh.shape = (m, Tx, len(machine_vocab))`. Here, `len(machine_vocab) = 11` since there are 11 characters ('-' as well as 0-9). \n"
   ]
  },
  {
   "cell_type": "markdown",
   "metadata": {},
   "source": [
    "Let's look at some examples of preprocessed training examples."
   ]
  },
  {
   "cell_type": "code",
   "execution_count": 8,
   "metadata": {},
   "outputs": [
    {
     "name": "stdout",
     "output_type": "stream",
     "text": [
      "Source date: 9 may 1998\n",
      "Target date: 1998-05-09\n",
      "\n",
      "Source after preprocessing (indices): [12  0 24 13 34  0  4 12 12 11 36 36 36 36 36 36 36 36 36 36 36 36 36 36\n",
      " 36 36 36 36 36 36]\n",
      "Target after preprocessing (indices): [ 2 10 10  9  0  1  6  0  1 10]\n",
      "\n",
      "Source after preprocessing (one-hot): [[0. 0. 0. ... 0. 0. 0.]\n",
      " [1. 0. 0. ... 0. 0. 0.]\n",
      " [0. 0. 0. ... 0. 0. 0.]\n",
      " ...\n",
      " [0. 0. 0. ... 0. 0. 1.]\n",
      " [0. 0. 0. ... 0. 0. 1.]\n",
      " [0. 0. 0. ... 0. 0. 1.]]\n",
      "Target after preprocessing (one-hot): [[0. 0. 1. 0. 0. 0. 0. 0. 0. 0. 0.]\n",
      " [0. 0. 0. 0. 0. 0. 0. 0. 0. 0. 1.]\n",
      " [0. 0. 0. 0. 0. 0. 0. 0. 0. 0. 1.]\n",
      " [0. 0. 0. 0. 0. 0. 0. 0. 0. 1. 0.]\n",
      " [1. 0. 0. 0. 0. 0. 0. 0. 0. 0. 0.]\n",
      " [0. 1. 0. 0. 0. 0. 0. 0. 0. 0. 0.]\n",
      " [0. 0. 0. 0. 0. 0. 1. 0. 0. 0. 0.]\n",
      " [1. 0. 0. 0. 0. 0. 0. 0. 0. 0. 0.]\n",
      " [0. 1. 0. 0. 0. 0. 0. 0. 0. 0. 0.]\n",
      " [0. 0. 0. 0. 0. 0. 0. 0. 0. 0. 1.]]\n"
     ]
    }
   ],
   "source": [
    "index = 0\n",
    "print(\"Source date:\", dataset[index][0])\n",
    "print(\"Target date:\", dataset[index][1])\n",
    "print()\n",
    "print(\"Source after preprocessing (indices):\", X[index])\n",
    "print(\"Target after preprocessing (indices):\", Y[index])\n",
    "print()\n",
    "print(\"Source after preprocessing (one-hot):\", Xoh[index])\n",
    "print(\"Target after preprocessing (one-hot):\", Yoh[index])"
   ]
  },
  {
   "cell_type": "markdown",
   "metadata": {},
   "source": [
    "## 4. Neural machine translation with attention\n",
    "The attention mechanism tells a Neural Machine Translation model where it should pay attention to at any step by introducing a context vector in the encoder decoder network. The intuition behind this is that if you had to translate a book's paragraph from French to English, you would not read the whole paragraph, then close the book and translate. Even during the translation process, you would read/re-read and focus on the parts of the French paragraph corresponding to the parts of the English you are writing down. \n",
    "\n",
    "### 4.1 - Attention mechanism\n",
    "\n",
    "In this part we will implement the attention mechanism."
   ]
  },
  {
   "cell_type": "markdown",
   "metadata": {},
   "source": [
    "Some properties of the attention model: \n",
    "\n",
    "- There are two separate LSTMs in this model. Because the one at the bottom of the picture is a Bi-directional LSTM and comes *before* the attention mechanism, we will call it *pre-attention* Bi-LSTM. The LSTM at the top of the diagram comes *after* the attention mechanism, so we will call it the *post-attention* LSTM. The pre-attention Bi-LSTM goes through $T_x$ time steps; the post-attention LSTM goes through $T_y$ time steps. \n",
    "\n",
    "- The post-attention LSTM passes $s^{\\langle t \\rangle}, c^{\\langle t \\rangle}$ from one time step to the next.  In this model the post-activation LSTM at time $t$ does will not take the specific generated $y^{\\langle t-1 \\rangle}$ as input; it only takes $s^{\\langle t\\rangle}$ and $c^{\\langle t\\rangle}$ as input. The model is designed this way, because (unlike language generation where adjacent characters are highly correlated) there isn't as strong a dependency between the previous character and the next character in a YYYY-MM-DD date. \n",
    "\n",
    "- We use $a^{\\langle t \\rangle} = [\\overrightarrow{a}^{\\langle t \\rangle}; \\overleftarrow{a}^{\\langle t \\rangle}]$ to represent the concatenation of the activations of both the forward-direction and backward-directions of the pre-attention Bi-LSTM. \n",
    "\n",
    "We start by implementing two functions: `one_step_attention()` and `model()`.\n",
    "\n",
    "**1) `one_step_attention()`**: At step $t$, given all the hidden states of the Bi-LSTM ($[a^{<1>},a^{<2>}, ..., a^{<T_x>}]$) and the previous hidden state of the second LSTM ($s^{<t-1>}$), `one_step_attention()` will compute the attention weights ($[\\alpha^{<t,1>},\\alpha^{<t,2>}, ..., \\alpha^{<t,T_x>}]$) and output the context vector:\n",
    "$$context^{<t>} = \\sum_{t' = 0}^{T_x} \\alpha^{<t,t'>}a^{<t'>}\\tag{1}$$ \n",
    "  \n",
    "**2) `model()`**: Implements the entire model. It first runs the input through a Bi-LSTM to get back $[a^{<1>},a^{<2>}, ..., a^{<T_x>}]$. Then, it calls `one_step_attention()` $T_y$ times (`for` loop). At each iteration of this loop, it gives the computed context vector $c^{<t>}$ to the second LSTM, and runs the output of the LSTM through a dense layer with softmax activation to generate a prediction $\\hat{y}^{<t>}$. "
   ]
  },
  {
   "cell_type": "markdown",
   "metadata": {},
   "source": [
    "We first define a custom softmax function, and layers as global variables."
   ]
  },
  {
   "cell_type": "code",
   "execution_count": 9,
   "metadata": {},
   "outputs": [],
   "source": [
    "def softmax(x, axis=1):\n",
    "    \"\"\"Softmax activation function.\n",
    "    # Arguments\n",
    "        x : Tensor.\n",
    "        axis: Integer, axis along which the softmax normalization is applied.\n",
    "    # Returns\n",
    "        Tensor, output of softmax transformation.\n",
    "    # Raises\n",
    "        ValueError: In case `dim(x) == 1`.\n",
    "    \"\"\"\n",
    "    ndim = K.ndim(x)\n",
    "    if ndim == 2:\n",
    "        return K.softmax(x)\n",
    "    elif ndim > 2:\n",
    "        e = K.exp(x - K.max(x, axis=axis, keepdims=True))\n",
    "        s = K.sum(e, axis=axis, keepdims=True)\n",
    "        return e / s\n",
    "    else:\n",
    "        raise ValueError('Cannot apply softmax to a tensor that is 1D')\n"
   ]
  },
  {
   "cell_type": "code",
   "execution_count": 10,
   "metadata": {},
   "outputs": [],
   "source": [
    "# Defined shared layers as global variables\n",
    "repeator = RepeatVector(Tx)\n",
    "concatenator = Concatenate(axis=-1)\n",
    "densor1 = Dense(10, activation = \"tanh\")\n",
    "densor2 = Dense(1, activation = \"relu\")\n",
    "activator = Activation(softmax, name='attention_weights') # We are using a custom softmax(axis = 1) loaded in this notebook\n",
    "dotor = Dot(axes = 1)"
   ]
  },
  {
   "cell_type": "markdown",
   "metadata": {},
   "source": [
    "Next we use these layers to implement `one_step_attention()`."
   ]
  },
  {
   "cell_type": "code",
   "execution_count": 11,
   "metadata": {},
   "outputs": [],
   "source": [
    "def one_step_attention(a, s_prev):\n",
    "    \"\"\"\n",
    "    Performs one step of attention: Outputs a context vector computed as a dot product of the attention weights\n",
    "    \"alphas\" and the hidden states \"a\" of the Bi-LSTM.\n",
    "    \n",
    "    Arguments:\n",
    "    a -- hidden state output of the Bi-LSTM, numpy-array of shape (m, Tx, 2*n_a)\n",
    "    s_prev -- previous hidden state of the (post-attention) LSTM, numpy-array of shape (m, n_s)\n",
    "    \n",
    "    Returns:\n",
    "    context -- context vector, input of the next (post-attetion) LSTM cell\n",
    "    \"\"\"\n",
    "    \n",
    "    # Use repeator to repeat s_prev to be of shape (m, Tx, n_s) so that you can concatenate it with all hidden states \"a\" (≈ 1 line)\n",
    "    s_prev = repeator(s_prev)\n",
    "    # Use concatenator to concatenate a and s_prev on the last axis (≈ 1 line)\n",
    "    concat = concatenator([a,s_prev])\n",
    "    # Use densor1 to propagate concat through a small fully-connected neural network to compute the \"intermediate energies\" variable e. (≈1 lines)\n",
    "    e = densor1(concat)\n",
    "    # Use densor2 to propagate e through a small fully-connected neural network to compute the \"energies\" variable energies. (≈1 lines)\n",
    "    energies = densor2(e) \n",
    "    # Use \"activator\" on \"energies\" to compute the attention weights \"alphas\" (≈ 1 line)\n",
    "    alphas = activator(energies)\n",
    "    # Use dotor together with \"alphas\" and \"a\" to compute the context vector to be given to the next (post-attention) LSTM-cell (≈ 1 line)\n",
    "    context = dotor([alphas,a])\n",
    "    \n",
    "    return context"
   ]
  },
  {
   "cell_type": "code",
   "execution_count": 12,
   "metadata": {},
   "outputs": [],
   "source": [
    "n_a = 32 #hidden state size of the Bi-LSTM\n",
    "n_s = 64 #hidden state size of the post-attention LSTM\n",
    "post_activation_LSTM_cell = LSTM(n_s, return_state = True)\n",
    "output_layer = Dense(len(machine_vocab), activation=softmax)"
   ]
  },
  {
   "cell_type": "markdown",
   "metadata": {},
   "source": [
    "Next, we use these layers $T_y$ times in a `for` loop to generate the outputs, and their parameters will not be reinitialized. We will carry out the following steps: \n",
    "\n",
    "1. Propagate the input into a [Bidirectional](https://keras.io/layers/wrappers/#bidirectional) [LSTM](https://keras.io/layers/recurrent/#lstm)\n",
    "2. Iterate for $t = 0, \\dots, T_y-1$: \n",
    "    1. Call `one_step_attention()` on $[\\alpha^{<t,1>},\\alpha^{<t,2>}, ..., \\alpha^{<t,T_x>}]$ and $s^{<t-1>}$ to get the context vector $context^{<t>}$.\n",
    "    2. Give $context^{<t>}$ to the post-attention LSTM cell. Remember pass in the previous hidden-state $s^{\\langle t-1\\rangle}$ and cell-states $c^{\\langle t-1\\rangle}$ of this LSTM using `initial_state= [previous hidden state, previous cell state]`. Get back the new hidden state $s^{<t>}$ and the new cell state $c^{<t>}$.\n",
    "    3. Apply a softmax layer to $s^{<t>}$, get the output. \n",
    "    4. Save the output by adding it to the list of outputs.\n",
    "\n",
    "3. Create a Keras model instance, with the inputs (\"inputs\", $s^{<0>}$ and $c^{<0>}$) and output the list of \"outputs\"."
   ]
  },
  {
   "cell_type": "code",
   "execution_count": 13,
   "metadata": {},
   "outputs": [],
   "source": [
    "def model(Tx, Ty, n_a, n_s, human_vocab_size, machine_vocab_size):\n",
    "    \"\"\"\n",
    "    Arguments:\n",
    "    Tx -- length of the input sequence\n",
    "    Ty -- length of the output sequence\n",
    "    n_a -- hidden state size of the Bi-LSTM\n",
    "    n_s -- hidden state size of the post-attention LSTM\n",
    "    human_vocab_size -- size of the python dictionary \"human_vocab\"\n",
    "    machine_vocab_size -- size of the python dictionary \"machine_vocab\"\n",
    "\n",
    "    Returns:\n",
    "    model -- Keras model instance\n",
    "    \"\"\"\n",
    "    \n",
    "    # Define the inputs of your model with a shape (Tx,)\n",
    "    # Define s0 and c0, initial hidden state for the decoder LSTM of shape (n_s,)\n",
    "    X = Input(shape=(Tx, human_vocab_size))\n",
    "    s0 = Input(shape=(n_s,), name='s0')\n",
    "    c0 = Input(shape=(n_s,), name='c0')\n",
    "    s = s0\n",
    "    c = c0\n",
    "    \n",
    "    # Initialize empty list of outputs\n",
    "    outputs = []\n",
    "\n",
    "    # Define your pre-attention Bi-LSTM. Remember to use return_sequences=True.\n",
    "    a = Bidirectional(LSTM(n_a, return_sequences = True))(X)\n",
    "    \n",
    "    # Iterate for Ty steps\n",
    "    for t in range(Ty):\n",
    "    \n",
    "        # Perform one step of the attention mechanism to get back the context vector at step t \n",
    "        context = one_step_attention(a,s)\n",
    "        \n",
    "        # Apply the post-attention LSTM cell to the \"context\" vector.\n",
    "        s, _, c = post_activation_LSTM_cell(context, initial_state = [s,c])\n",
    "        \n",
    "        # Apply Dense layer to the hidden state output of the post-attention LSTM\n",
    "        out = output_layer(s)\n",
    "        \n",
    "        # Append \"out\" to the \"outputs\" list\n",
    "        outputs.append(out)\n",
    "    \n",
    "    # Create model instance taking three inputs and returning the list of outputs.\n",
    "    model = Model(inputs = [X,s0,c0], outputs = outputs)\n",
    "    \n",
    "    \n",
    "    return model"
   ]
  },
  {
   "cell_type": "code",
   "execution_count": 14,
   "metadata": {},
   "outputs": [],
   "source": [
    "model = model(Tx, Ty, n_a, n_s, len(human_vocab), len(machine_vocab))"
   ]
  },
  {
   "cell_type": "code",
   "execution_count": 15,
   "metadata": {},
   "outputs": [
    {
     "name": "stdout",
     "output_type": "stream",
     "text": [
      "__________________________________________________________________________________________________\n",
      "Layer (type)                    Output Shape         Param #     Connected to                     \n",
      "==================================================================================================\n",
      "input_1 (InputLayer)            (None, 30, 37)       0                                            \n",
      "__________________________________________________________________________________________________\n",
      "s0 (InputLayer)                 (None, 64)           0                                            \n",
      "__________________________________________________________________________________________________\n",
      "bidirectional_1 (Bidirectional) (None, 30, 64)       17920       input_1[0][0]                    \n",
      "__________________________________________________________________________________________________\n",
      "repeat_vector_1 (RepeatVector)  (None, 30, 64)       0           s0[0][0]                         \n",
      "                                                                 lstm_1[0][0]                     \n",
      "                                                                 lstm_1[1][0]                     \n",
      "                                                                 lstm_1[2][0]                     \n",
      "                                                                 lstm_1[3][0]                     \n",
      "                                                                 lstm_1[4][0]                     \n",
      "                                                                 lstm_1[5][0]                     \n",
      "                                                                 lstm_1[6][0]                     \n",
      "                                                                 lstm_1[7][0]                     \n",
      "                                                                 lstm_1[8][0]                     \n",
      "__________________________________________________________________________________________________\n",
      "concatenate_1 (Concatenate)     (None, 30, 128)      0           bidirectional_1[0][0]            \n",
      "                                                                 repeat_vector_1[0][0]            \n",
      "                                                                 bidirectional_1[0][0]            \n",
      "                                                                 repeat_vector_1[1][0]            \n",
      "                                                                 bidirectional_1[0][0]            \n",
      "                                                                 repeat_vector_1[2][0]            \n",
      "                                                                 bidirectional_1[0][0]            \n",
      "                                                                 repeat_vector_1[3][0]            \n",
      "                                                                 bidirectional_1[0][0]            \n",
      "                                                                 repeat_vector_1[4][0]            \n",
      "                                                                 bidirectional_1[0][0]            \n",
      "                                                                 repeat_vector_1[5][0]            \n",
      "                                                                 bidirectional_1[0][0]            \n",
      "                                                                 repeat_vector_1[6][0]            \n",
      "                                                                 bidirectional_1[0][0]            \n",
      "                                                                 repeat_vector_1[7][0]            \n",
      "                                                                 bidirectional_1[0][0]            \n",
      "                                                                 repeat_vector_1[8][0]            \n",
      "                                                                 bidirectional_1[0][0]            \n",
      "                                                                 repeat_vector_1[9][0]            \n",
      "__________________________________________________________________________________________________\n",
      "dense_1 (Dense)                 (None, 30, 10)       1290        concatenate_1[0][0]              \n",
      "                                                                 concatenate_1[1][0]              \n",
      "                                                                 concatenate_1[2][0]              \n",
      "                                                                 concatenate_1[3][0]              \n",
      "                                                                 concatenate_1[4][0]              \n",
      "                                                                 concatenate_1[5][0]              \n",
      "                                                                 concatenate_1[6][0]              \n",
      "                                                                 concatenate_1[7][0]              \n",
      "                                                                 concatenate_1[8][0]              \n",
      "                                                                 concatenate_1[9][0]              \n",
      "__________________________________________________________________________________________________\n",
      "dense_2 (Dense)                 (None, 30, 1)        11          dense_1[0][0]                    \n",
      "                                                                 dense_1[1][0]                    \n",
      "                                                                 dense_1[2][0]                    \n",
      "                                                                 dense_1[3][0]                    \n",
      "                                                                 dense_1[4][0]                    \n",
      "                                                                 dense_1[5][0]                    \n",
      "                                                                 dense_1[6][0]                    \n",
      "                                                                 dense_1[7][0]                    \n",
      "                                                                 dense_1[8][0]                    \n",
      "                                                                 dense_1[9][0]                    \n",
      "__________________________________________________________________________________________________\n",
      "attention_weights (Activation)  (None, 30, 1)        0           dense_2[0][0]                    \n",
      "                                                                 dense_2[1][0]                    \n",
      "                                                                 dense_2[2][0]                    \n",
      "                                                                 dense_2[3][0]                    \n",
      "                                                                 dense_2[4][0]                    \n",
      "                                                                 dense_2[5][0]                    \n",
      "                                                                 dense_2[6][0]                    \n",
      "                                                                 dense_2[7][0]                    \n",
      "                                                                 dense_2[8][0]                    \n",
      "                                                                 dense_2[9][0]                    \n",
      "__________________________________________________________________________________________________\n",
      "dot_1 (Dot)                     (None, 1, 64)        0           attention_weights[0][0]          \n",
      "                                                                 bidirectional_1[0][0]            \n",
      "                                                                 attention_weights[1][0]          \n",
      "                                                                 bidirectional_1[0][0]            \n",
      "                                                                 attention_weights[2][0]          \n",
      "                                                                 bidirectional_1[0][0]            \n",
      "                                                                 attention_weights[3][0]          \n",
      "                                                                 bidirectional_1[0][0]            \n",
      "                                                                 attention_weights[4][0]          \n",
      "                                                                 bidirectional_1[0][0]            \n",
      "                                                                 attention_weights[5][0]          \n",
      "                                                                 bidirectional_1[0][0]            \n",
      "                                                                 attention_weights[6][0]          \n",
      "                                                                 bidirectional_1[0][0]            \n",
      "                                                                 attention_weights[7][0]          \n",
      "                                                                 bidirectional_1[0][0]            \n",
      "                                                                 attention_weights[8][0]          \n",
      "                                                                 bidirectional_1[0][0]            \n",
      "                                                                 attention_weights[9][0]          \n",
      "                                                                 bidirectional_1[0][0]            \n",
      "__________________________________________________________________________________________________\n",
      "c0 (InputLayer)                 (None, 64)           0                                            \n",
      "__________________________________________________________________________________________________\n",
      "lstm_1 (LSTM)                   [(None, 64), (None,  33024       dot_1[0][0]                      \n",
      "                                                                 s0[0][0]                         \n",
      "                                                                 c0[0][0]                         \n",
      "                                                                 dot_1[1][0]                      \n",
      "                                                                 lstm_1[0][0]                     \n",
      "                                                                 lstm_1[0][2]                     \n",
      "                                                                 dot_1[2][0]                      \n",
      "                                                                 lstm_1[1][0]                     \n",
      "                                                                 lstm_1[1][2]                     \n",
      "                                                                 dot_1[3][0]                      \n",
      "                                                                 lstm_1[2][0]                     \n",
      "                                                                 lstm_1[2][2]                     \n",
      "                                                                 dot_1[4][0]                      \n",
      "                                                                 lstm_1[3][0]                     \n",
      "                                                                 lstm_1[3][2]                     \n",
      "                                                                 dot_1[5][0]                      \n",
      "                                                                 lstm_1[4][0]                     \n",
      "                                                                 lstm_1[4][2]                     \n",
      "                                                                 dot_1[6][0]                      \n",
      "                                                                 lstm_1[5][0]                     \n",
      "                                                                 lstm_1[5][2]                     \n",
      "                                                                 dot_1[7][0]                      \n",
      "                                                                 lstm_1[6][0]                     \n",
      "                                                                 lstm_1[6][2]                     \n",
      "                                                                 dot_1[8][0]                      \n",
      "                                                                 lstm_1[7][0]                     \n",
      "                                                                 lstm_1[7][2]                     \n",
      "                                                                 dot_1[9][0]                      \n",
      "                                                                 lstm_1[8][0]                     \n",
      "                                                                 lstm_1[8][2]                     \n",
      "__________________________________________________________________________________________________\n",
      "dense_3 (Dense)                 (None, 11)           715         lstm_1[0][0]                     \n",
      "                                                                 lstm_1[1][0]                     \n",
      "                                                                 lstm_1[2][0]                     \n",
      "                                                                 lstm_1[3][0]                     \n",
      "                                                                 lstm_1[4][0]                     \n",
      "                                                                 lstm_1[5][0]                     \n",
      "                                                                 lstm_1[6][0]                     \n",
      "                                                                 lstm_1[7][0]                     \n",
      "                                                                 lstm_1[8][0]                     \n",
      "                                                                 lstm_1[9][0]                     \n",
      "==================================================================================================\n",
      "Total params: 52,960\n",
      "Trainable params: 52,960\n",
      "Non-trainable params: 0\n",
      "__________________________________________________________________________________________________\n"
     ]
    }
   ],
   "source": [
    "model.summary()"
   ]
  },
  {
   "cell_type": "markdown",
   "metadata": {},
   "source": [
    "Next, we compile our model and define the loss, optimizer and metrics."
   ]
  },
  {
   "cell_type": "code",
   "execution_count": 16,
   "metadata": {},
   "outputs": [],
   "source": [
    "opt = model.compile(optimizer=Adam(lr=0.01, beta_1=0.9, beta_2=0.999, decay=0.01),\n",
    "                    metrics=['accuracy'],\n",
    "                    loss='categorical_crossentropy')\n",
    "opt"
   ]
  },
  {
   "cell_type": "markdown",
   "metadata": {},
   "source": [
    "The last step is to define all oour inputs and outputs to fit the model:\n",
    "- We have X of shape $(m = 10000, T_x = 30)$ containing the training examples.\n",
    "- We need to create `s0` and `c0` to initialize your `post_activation_LSTM_cell` with 0s.\n",
    "- Given the `model()` we coded, we need the \"outputs\" to be a list of 11 elements of shape (m, T_y). So that: `outputs[i][0], ..., outputs[i][Ty]` represent the true labels (characters) corresponding to the $i^{th}$ training example (`X[i]`). More generally, `outputs[i][j]` is the true label of the $j^{th}$ character in the $i^{th}$ training example."
   ]
  },
  {
   "cell_type": "code",
   "execution_count": 17,
   "metadata": {},
   "outputs": [],
   "source": [
    "s0 = np.zeros((m, n_s))\n",
    "c0 = np.zeros((m, n_s))\n",
    "outputs = list(Yoh.swapaxes(0,1))"
   ]
  },
  {
   "cell_type": "markdown",
   "metadata": {},
   "source": [
    "Let's now fit the model and run it for one epoch."
   ]
  },
  {
   "cell_type": "code",
   "execution_count": 18,
   "metadata": {},
   "outputs": [
    {
     "name": "stdout",
     "output_type": "stream",
     "text": [
      "Epoch 1/50\n",
      "10000/10000 [==============================] - 26s 3ms/step - loss: 14.7233 - dense_3_loss: 2.5432 - dense_3_acc: 0.6301 - dense_3_acc_1: 0.6949 - dense_3_acc_2: 0.3333 - dense_3_acc_3: 0.0947 - dense_3_acc_4: 0.9539 - dense_3_acc_5: 0.5260 - dense_3_acc_6: 0.1217 - dense_3_acc_7: 0.9444 - dense_3_acc_8: 0.2595 - dense_3_acc_9: 0.1012\n",
      "Epoch 2/50\n",
      "10000/10000 [==============================] - 14s 1ms/step - loss: 8.1670 - dense_3_loss: 2.1271 - dense_3_acc: 0.9733 - dense_3_acc_1: 0.9742 - dense_3_acc_2: 0.5516 - dense_3_acc_3: 0.2525 - dense_3_acc_4: 1.0000 - dense_3_acc_5: 0.9480 - dense_3_acc_6: 0.4514 - dense_3_acc_7: 0.9999 - dense_3_acc_8: 0.5142 - dense_3_acc_9: 0.2186\n",
      "Epoch 3/50\n",
      "10000/10000 [==============================] - 14s 1ms/step - loss: 6.5760 - dense_3_loss: 1.9551 - dense_3_acc: 0.9787 - dense_3_acc_1: 0.9811 - dense_3_acc_2: 0.6962 - dense_3_acc_3: 0.4284 - dense_3_acc_4: 1.0000 - dense_3_acc_5: 0.9720 - dense_3_acc_6: 0.6169 - dense_3_acc_7: 0.9999 - dense_3_acc_8: 0.5872 - dense_3_acc_9: 0.2752\n",
      "Epoch 4/50\n",
      "10000/10000 [==============================] - 13s 1ms/step - loss: 5.2583 - dense_3_loss: 1.7414 - dense_3_acc: 0.9819 - dense_3_acc_1: 0.9833 - dense_3_acc_2: 0.7962 - dense_3_acc_3: 0.5829 - dense_3_acc_4: 1.0000 - dense_3_acc_5: 0.9766 - dense_3_acc_6: 0.7451 - dense_3_acc_7: 1.0000 - dense_3_acc_8: 0.6538 - dense_3_acc_9: 0.3576\n",
      "Epoch 5/50\n",
      "10000/10000 [==============================] - 13s 1ms/step - loss: 4.2273 - dense_3_loss: 1.4433 - dense_3_acc: 0.9837 - dense_3_acc_1: 0.9838 - dense_3_acc_2: 0.8533 - dense_3_acc_3: 0.7085 - dense_3_acc_4: 1.0000 - dense_3_acc_5: 0.9767 - dense_3_acc_6: 0.7989 - dense_3_acc_7: 1.0000 - dense_3_acc_8: 0.7046 - dense_3_acc_9: 0.4733\n",
      "Epoch 6/50\n",
      "10000/10000 [==============================] - 12s 1ms/step - loss: 3.4219 - dense_3_loss: 1.1098 - dense_3_acc: 0.9865 - dense_3_acc_1: 0.9854 - dense_3_acc_2: 0.8664 - dense_3_acc_3: 0.8017 - dense_3_acc_4: 1.0000 - dense_3_acc_5: 0.9785 - dense_3_acc_6: 0.8339 - dense_3_acc_7: 1.0000 - dense_3_acc_8: 0.7563 - dense_3_acc_9: 0.6112\n",
      "Epoch 7/50\n",
      "10000/10000 [==============================] - 13s 1ms/step - loss: 2.8143 - dense_3_loss: 0.8322 - dense_3_acc: 0.9888 - dense_3_acc_1: 0.9880 - dense_3_acc_2: 0.8747 - dense_3_acc_3: 0.8633 - dense_3_acc_4: 1.0000 - dense_3_acc_5: 0.9797 - dense_3_acc_6: 0.8575 - dense_3_acc_7: 1.0000 - dense_3_acc_8: 0.7878 - dense_3_acc_9: 0.7221\n",
      "Epoch 8/50\n",
      "10000/10000 [==============================] - 13s 1ms/step - loss: 2.3668 - dense_3_loss: 0.6406 - dense_3_acc: 0.9904 - dense_3_acc_1: 0.9901 - dense_3_acc_2: 0.8797 - dense_3_acc_3: 0.9019 - dense_3_acc_4: 1.0000 - dense_3_acc_5: 0.9797 - dense_3_acc_6: 0.8840 - dense_3_acc_7: 1.0000 - dense_3_acc_8: 0.8198 - dense_3_acc_9: 0.8017\n",
      "Epoch 9/50\n",
      "10000/10000 [==============================] - 13s 1ms/step - loss: 2.0620 - dense_3_loss: 0.5354 - dense_3_acc: 0.9928 - dense_3_acc_1: 0.9920 - dense_3_acc_2: 0.8858 - dense_3_acc_3: 0.9250 - dense_3_acc_4: 1.0000 - dense_3_acc_5: 0.9812 - dense_3_acc_6: 0.9046 - dense_3_acc_7: 1.0000 - dense_3_acc_8: 0.8345 - dense_3_acc_9: 0.8335\n",
      "Epoch 10/50\n",
      "10000/10000 [==============================] - 13s 1ms/step - loss: 1.8307 - dense_3_loss: 0.4572 - dense_3_acc: 0.9942 - dense_3_acc_1: 0.9930 - dense_3_acc_2: 0.8924 - dense_3_acc_3: 0.9407 - dense_3_acc_4: 1.0000 - dense_3_acc_5: 0.9831 - dense_3_acc_6: 0.9171 - dense_3_acc_7: 1.0000 - dense_3_acc_8: 0.8506 - dense_3_acc_9: 0.8546\n",
      "Epoch 11/50\n",
      "10000/10000 [==============================] - 13s 1ms/step - loss: 1.6487 - dense_3_loss: 0.4090 - dense_3_acc: 0.9949 - dense_3_acc_1: 0.9945 - dense_3_acc_2: 0.9019 - dense_3_acc_3: 0.9537 - dense_3_acc_4: 1.0000 - dense_3_acc_5: 0.9830 - dense_3_acc_6: 0.9300 - dense_3_acc_7: 1.0000 - dense_3_acc_8: 0.8662 - dense_3_acc_9: 0.8671\n",
      "Epoch 12/50\n",
      "10000/10000 [==============================] - 13s 1ms/step - loss: 1.5240 - dense_3_loss: 0.3772 - dense_3_acc: 0.9957 - dense_3_acc_1: 0.9959 - dense_3_acc_2: 0.9090 - dense_3_acc_3: 0.9607 - dense_3_acc_4: 1.0000 - dense_3_acc_5: 0.9835 - dense_3_acc_6: 0.9320 - dense_3_acc_7: 0.9999 - dense_3_acc_8: 0.8718 - dense_3_acc_9: 0.8764\n",
      "Epoch 13/50\n",
      "10000/10000 [==============================] - 13s 1ms/step - loss: 1.3898 - dense_3_loss: 0.3464 - dense_3_acc: 0.9969 - dense_3_acc_1: 0.9967 - dense_3_acc_2: 0.9218 - dense_3_acc_3: 0.9703 - dense_3_acc_4: 1.0000 - dense_3_acc_5: 0.9852 - dense_3_acc_6: 0.9405 - dense_3_acc_7: 1.0000 - dense_3_acc_8: 0.8802 - dense_3_acc_9: 0.8865\n",
      "Epoch 14/50\n",
      "10000/10000 [==============================] - 13s 1ms/step - loss: 1.2818 - dense_3_loss: 0.3206 - dense_3_acc: 0.9977 - dense_3_acc_1: 0.9971 - dense_3_acc_2: 0.9391 - dense_3_acc_3: 0.9776 - dense_3_acc_4: 1.0000 - dense_3_acc_5: 0.9843 - dense_3_acc_6: 0.9420 - dense_3_acc_7: 1.0000 - dense_3_acc_8: 0.8868 - dense_3_acc_9: 0.8951\n",
      "Epoch 15/50\n",
      "10000/10000 [==============================] - 13s 1ms/step - loss: 1.1875 - dense_3_loss: 0.3022 - dense_3_acc: 0.9979 - dense_3_acc_1: 0.9979 - dense_3_acc_2: 0.9464 - dense_3_acc_3: 0.9820 - dense_3_acc_4: 1.0000 - dense_3_acc_5: 0.9854 - dense_3_acc_6: 0.9435 - dense_3_acc_7: 1.0000 - dense_3_acc_8: 0.8911 - dense_3_acc_9: 0.9016\n",
      "Epoch 16/50\n",
      "10000/10000 [==============================] - 14s 1ms/step - loss: 1.1035 - dense_3_loss: 0.2849 - dense_3_acc: 0.9980 - dense_3_acc_1: 0.9981 - dense_3_acc_2: 0.9548 - dense_3_acc_3: 0.9853 - dense_3_acc_4: 1.0000 - dense_3_acc_5: 0.9858 - dense_3_acc_6: 0.9467 - dense_3_acc_7: 1.0000 - dense_3_acc_8: 0.8979 - dense_3_acc_9: 0.9057\n",
      "Epoch 17/50\n",
      "10000/10000 [==============================] - 12s 1ms/step - loss: 1.0335 - dense_3_loss: 0.2693 - dense_3_acc: 0.9984 - dense_3_acc_1: 0.9985 - dense_3_acc_2: 0.9596 - dense_3_acc_3: 0.9888 - dense_3_acc_4: 1.0000 - dense_3_acc_5: 0.9865 - dense_3_acc_6: 0.9478 - dense_3_acc_7: 1.0000 - dense_3_acc_8: 0.9049 - dense_3_acc_9: 0.9126\n",
      "Epoch 18/50\n",
      "10000/10000 [==============================] - 13s 1ms/step - loss: 0.9565 - dense_3_loss: 0.2528 - dense_3_acc: 0.9984 - dense_3_acc_1: 0.9986 - dense_3_acc_2: 0.9670 - dense_3_acc_3: 0.9931 - dense_3_acc_4: 1.0000 - dense_3_acc_5: 0.9883 - dense_3_acc_6: 0.9519 - dense_3_acc_7: 1.0000 - dense_3_acc_8: 0.9098 - dense_3_acc_9: 0.9205\n",
      "Epoch 19/50\n",
      "10000/10000 [==============================] - 13s 1ms/step - loss: 0.8990 - dense_3_loss: 0.2384 - dense_3_acc: 0.9986 - dense_3_acc_1: 0.9987 - dense_3_acc_2: 0.9722 - dense_3_acc_3: 0.9949 - dense_3_acc_4: 1.0000 - dense_3_acc_5: 0.9876 - dense_3_acc_6: 0.9519 - dense_3_acc_7: 1.0000 - dense_3_acc_8: 0.9177 - dense_3_acc_9: 0.9265\n",
      "Epoch 20/50\n",
      "10000/10000 [==============================] - 14s 1ms/step - loss: 0.8441 - dense_3_loss: 0.2274 - dense_3_acc: 0.9988 - dense_3_acc_1: 0.9989 - dense_3_acc_2: 0.9750 - dense_3_acc_3: 0.9963 - dense_3_acc_4: 1.0000 - dense_3_acc_5: 0.9880 - dense_3_acc_6: 0.9539 - dense_3_acc_7: 1.0000 - dense_3_acc_8: 0.9239 - dense_3_acc_9: 0.9323\n",
      "Epoch 21/50\n",
      "10000/10000 [==============================] - 13s 1ms/step - loss: 0.7867 - dense_3_loss: 0.2095 - dense_3_acc: 0.9991 - dense_3_acc_1: 0.9993 - dense_3_acc_2: 0.9775 - dense_3_acc_3: 0.9965 - dense_3_acc_4: 1.0000 - dense_3_acc_5: 0.9890 - dense_3_acc_6: 0.9560 - dense_3_acc_7: 1.0000 - dense_3_acc_8: 0.9300 - dense_3_acc_9: 0.9415\n",
      "Epoch 22/50\n",
      "10000/10000 [==============================] - 13s 1ms/step - loss: 0.7430 - dense_3_loss: 0.1998 - dense_3_acc: 0.9993 - dense_3_acc_1: 0.9993 - dense_3_acc_2: 0.9798 - dense_3_acc_3: 0.9980 - dense_3_acc_4: 1.0000 - dense_3_acc_5: 0.9885 - dense_3_acc_6: 0.9571 - dense_3_acc_7: 1.0000 - dense_3_acc_8: 0.9364 - dense_3_acc_9: 0.9452\n",
      "Epoch 23/50\n",
      "10000/10000 [==============================] - 14s 1ms/step - loss: 0.6953 - dense_3_loss: 0.1885 - dense_3_acc: 0.9993 - dense_3_acc_1: 0.9993 - dense_3_acc_2: 0.9823 - dense_3_acc_3: 0.9983 - dense_3_acc_4: 1.0000 - dense_3_acc_5: 0.9892 - dense_3_acc_6: 0.9589 - dense_3_acc_7: 1.0000 - dense_3_acc_8: 0.9424 - dense_3_acc_9: 0.9471\n",
      "Epoch 24/50\n"
     ]
    },
    {
     "name": "stdout",
     "output_type": "stream",
     "text": [
      "10000/10000 [==============================] - 12s 1ms/step - loss: 0.6595 - dense_3_loss: 0.1774 - dense_3_acc: 0.9994 - dense_3_acc_1: 0.9996 - dense_3_acc_2: 0.9839 - dense_3_acc_3: 0.9979 - dense_3_acc_4: 1.0000 - dense_3_acc_5: 0.9897 - dense_3_acc_6: 0.9592 - dense_3_acc_7: 1.0000 - dense_3_acc_8: 0.9479 - dense_3_acc_9: 0.9534\n",
      "Epoch 25/50\n",
      "10000/10000 [==============================] - 12s 1ms/step - loss: 0.6236 - dense_3_loss: 0.1676 - dense_3_acc: 0.9995 - dense_3_acc_1: 0.9998 - dense_3_acc_2: 0.9861 - dense_3_acc_3: 0.9976 - dense_3_acc_4: 1.0000 - dense_3_acc_5: 0.9902 - dense_3_acc_6: 0.9618 - dense_3_acc_7: 1.0000 - dense_3_acc_8: 0.9547 - dense_3_acc_9: 0.9568\n",
      "Epoch 26/50\n",
      "10000/10000 [==============================] - 13s 1ms/step - loss: 0.5876 - dense_3_loss: 0.1595 - dense_3_acc: 0.9996 - dense_3_acc_1: 0.9997 - dense_3_acc_2: 0.9872 - dense_3_acc_3: 0.9988 - dense_3_acc_4: 1.0000 - dense_3_acc_5: 0.9902 - dense_3_acc_6: 0.9623 - dense_3_acc_7: 1.0000 - dense_3_acc_8: 0.9578 - dense_3_acc_9: 0.9583\n",
      "Epoch 27/50\n",
      "10000/10000 [==============================] - 13s 1ms/step - loss: 0.5561 - dense_3_loss: 0.1504 - dense_3_acc: 0.9997 - dense_3_acc_1: 0.9998 - dense_3_acc_2: 0.9888 - dense_3_acc_3: 0.9989 - dense_3_acc_4: 1.0000 - dense_3_acc_5: 0.9907 - dense_3_acc_6: 0.9621 - dense_3_acc_7: 1.0000 - dense_3_acc_8: 0.9624 - dense_3_acc_9: 0.9612\n",
      "Epoch 28/50\n",
      "10000/10000 [==============================] - 13s 1ms/step - loss: 0.5248 - dense_3_loss: 0.1422 - dense_3_acc: 0.9996 - dense_3_acc_1: 0.9997 - dense_3_acc_2: 0.9902 - dense_3_acc_3: 0.9991 - dense_3_acc_4: 1.0000 - dense_3_acc_5: 0.9912 - dense_3_acc_6: 0.9643 - dense_3_acc_7: 1.0000 - dense_3_acc_8: 0.9655 - dense_3_acc_9: 0.9653\n",
      "Epoch 29/50\n",
      "10000/10000 [==============================] - 13s 1ms/step - loss: 0.5004 - dense_3_loss: 0.1358 - dense_3_acc: 0.9997 - dense_3_acc_1: 0.9998 - dense_3_acc_2: 0.9916 - dense_3_acc_3: 0.9989 - dense_3_acc_4: 1.0000 - dense_3_acc_5: 0.9916 - dense_3_acc_6: 0.9667 - dense_3_acc_7: 1.0000 - dense_3_acc_8: 0.9675 - dense_3_acc_9: 0.9659\n",
      "Epoch 30/50\n",
      "10000/10000 [==============================] - 13s 1ms/step - loss: 0.4777 - dense_3_loss: 0.1275 - dense_3_acc: 0.9998 - dense_3_acc_1: 0.9997 - dense_3_acc_2: 0.9921 - dense_3_acc_3: 0.9992 - dense_3_acc_4: 1.0000 - dense_3_acc_5: 0.9911 - dense_3_acc_6: 0.9667 - dense_3_acc_7: 1.0000 - dense_3_acc_8: 0.9698 - dense_3_acc_9: 0.9678\n",
      "Epoch 31/50\n",
      "10000/10000 [==============================] - 13s 1ms/step - loss: 0.4527 - dense_3_loss: 0.1209 - dense_3_acc: 0.9998 - dense_3_acc_1: 0.9998 - dense_3_acc_2: 0.9924 - dense_3_acc_3: 0.9994 - dense_3_acc_4: 1.0000 - dense_3_acc_5: 0.9920 - dense_3_acc_6: 0.9665 - dense_3_acc_7: 1.0000 - dense_3_acc_8: 0.9740 - dense_3_acc_9: 0.9716\n",
      "Epoch 32/50\n",
      "10000/10000 [==============================] - 12s 1ms/step - loss: 0.4329 - dense_3_loss: 0.1155 - dense_3_acc: 0.9999 - dense_3_acc_1: 0.9997 - dense_3_acc_2: 0.9930 - dense_3_acc_3: 0.9993 - dense_3_acc_4: 1.0000 - dense_3_acc_5: 0.9924 - dense_3_acc_6: 0.9680 - dense_3_acc_7: 1.0000 - dense_3_acc_8: 0.9752 - dense_3_acc_9: 0.9719\n",
      "Epoch 33/50\n",
      "10000/10000 [==============================] - 12s 1ms/step - loss: 0.4148 - dense_3_loss: 0.1098 - dense_3_acc: 0.9999 - dense_3_acc_1: 0.9999 - dense_3_acc_2: 0.9937 - dense_3_acc_3: 0.9994 - dense_3_acc_4: 1.0000 - dense_3_acc_5: 0.9929 - dense_3_acc_6: 0.9689 - dense_3_acc_7: 1.0000 - dense_3_acc_8: 0.9774 - dense_3_acc_9: 0.9717\n",
      "Epoch 34/50\n",
      "10000/10000 [==============================] - 12s 1ms/step - loss: 0.3964 - dense_3_loss: 0.1065 - dense_3_acc: 1.0000 - dense_3_acc_1: 0.9999 - dense_3_acc_2: 0.9947 - dense_3_acc_3: 0.9996 - dense_3_acc_4: 1.0000 - dense_3_acc_5: 0.9930 - dense_3_acc_6: 0.9694 - dense_3_acc_7: 1.0000 - dense_3_acc_8: 0.9761 - dense_3_acc_9: 0.9730\n",
      "Epoch 35/50\n",
      "10000/10000 [==============================] - 12s 1ms/step - loss: 0.3849 - dense_3_loss: 0.1028 - dense_3_acc: 1.0000 - dense_3_acc_1: 0.9998 - dense_3_acc_2: 0.9948 - dense_3_acc_3: 0.9997 - dense_3_acc_4: 1.0000 - dense_3_acc_5: 0.9932 - dense_3_acc_6: 0.9694 - dense_3_acc_7: 1.0000 - dense_3_acc_8: 0.9809 - dense_3_acc_9: 0.9753\n",
      "Epoch 36/50\n",
      "10000/10000 [==============================] - 12s 1ms/step - loss: 0.3639 - dense_3_loss: 0.0963 - dense_3_acc: 0.9998 - dense_3_acc_1: 0.9998 - dense_3_acc_2: 0.9951 - dense_3_acc_3: 0.9998 - dense_3_acc_4: 1.0000 - dense_3_acc_5: 0.9938 - dense_3_acc_6: 0.9721 - dense_3_acc_7: 1.0000 - dense_3_acc_8: 0.9808 - dense_3_acc_9: 0.9770\n",
      "Epoch 37/50\n",
      "10000/10000 [==============================] - 13s 1ms/step - loss: 0.3507 - dense_3_loss: 0.0923 - dense_3_acc: 0.9999 - dense_3_acc_1: 0.9998 - dense_3_acc_2: 0.9953 - dense_3_acc_3: 0.9996 - dense_3_acc_4: 1.0000 - dense_3_acc_5: 0.9930 - dense_3_acc_6: 0.9729 - dense_3_acc_7: 1.0000 - dense_3_acc_8: 0.9829 - dense_3_acc_9: 0.9776\n",
      "Epoch 38/50\n",
      "10000/10000 [==============================] - 12s 1ms/step - loss: 0.3395 - dense_3_loss: 0.0885 - dense_3_acc: 1.0000 - dense_3_acc_1: 0.9999 - dense_3_acc_2: 0.9954 - dense_3_acc_3: 0.9998 - dense_3_acc_4: 1.0000 - dense_3_acc_5: 0.9932 - dense_3_acc_6: 0.9721 - dense_3_acc_7: 1.0000 - dense_3_acc_8: 0.9847 - dense_3_acc_9: 0.9786\n",
      "Epoch 39/50\n",
      "10000/10000 [==============================] - 13s 1ms/step - loss: 0.3288 - dense_3_loss: 0.0863 - dense_3_acc: 1.0000 - dense_3_acc_1: 0.9999 - dense_3_acc_2: 0.9957 - dense_3_acc_3: 0.9998 - dense_3_acc_4: 1.0000 - dense_3_acc_5: 0.9943 - dense_3_acc_6: 0.9727 - dense_3_acc_7: 1.0000 - dense_3_acc_8: 0.9842 - dense_3_acc_9: 0.9783\n",
      "Epoch 40/50\n",
      "10000/10000 [==============================] - 13s 1ms/step - loss: 0.3129 - dense_3_loss: 0.0819 - dense_3_acc: 1.0000 - dense_3_acc_1: 0.9999 - dense_3_acc_2: 0.9960 - dense_3_acc_3: 0.9999 - dense_3_acc_4: 1.0000 - dense_3_acc_5: 0.9952 - dense_3_acc_6: 0.9745 - dense_3_acc_7: 1.0000 - dense_3_acc_8: 0.9853 - dense_3_acc_9: 0.9795\n",
      "Epoch 41/50\n",
      "10000/10000 [==============================] - 14s 1ms/step - loss: 0.3063 - dense_3_loss: 0.0809 - dense_3_acc: 1.0000 - dense_3_acc_1: 0.9998 - dense_3_acc_2: 0.9961 - dense_3_acc_3: 0.9998 - dense_3_acc_4: 1.0000 - dense_3_acc_5: 0.9953 - dense_3_acc_6: 0.9762 - dense_3_acc_7: 1.0000 - dense_3_acc_8: 0.9860 - dense_3_acc_9: 0.9799\n",
      "Epoch 42/50\n",
      "10000/10000 [==============================] - 15s 1ms/step - loss: 0.2915 - dense_3_loss: 0.0756 - dense_3_acc: 1.0000 - dense_3_acc_1: 0.9999 - dense_3_acc_2: 0.9967 - dense_3_acc_3: 0.9998 - dense_3_acc_4: 1.0000 - dense_3_acc_5: 0.9949 - dense_3_acc_6: 0.9749 - dense_3_acc_7: 1.0000 - dense_3_acc_8: 0.9876 - dense_3_acc_9: 0.9821\n",
      "Epoch 43/50\n",
      "10000/10000 [==============================] - 14s 1ms/step - loss: 0.2826 - dense_3_loss: 0.0740 - dense_3_acc: 1.0000 - dense_3_acc_1: 0.9999 - dense_3_acc_2: 0.9967 - dense_3_acc_3: 1.0000 - dense_3_acc_4: 1.0000 - dense_3_acc_5: 0.9953 - dense_3_acc_6: 0.9770 - dense_3_acc_7: 1.0000 - dense_3_acc_8: 0.9890 - dense_3_acc_9: 0.9819\n",
      "Epoch 44/50\n",
      "10000/10000 [==============================] - 12s 1ms/step - loss: 0.2761 - dense_3_loss: 0.0719 - dense_3_acc: 1.0000 - dense_3_acc_1: 0.9999 - dense_3_acc_2: 0.9971 - dense_3_acc_3: 1.0000 - dense_3_acc_4: 1.0000 - dense_3_acc_5: 0.9951 - dense_3_acc_6: 0.9771 - dense_3_acc_7: 1.0000 - dense_3_acc_8: 0.9890 - dense_3_acc_9: 0.9825\n",
      "Epoch 45/50\n",
      "10000/10000 [==============================] - 14s 1ms/step - loss: 0.2647 - dense_3_loss: 0.0685 - dense_3_acc: 1.0000 - dense_3_acc_1: 0.9998 - dense_3_acc_2: 0.9970 - dense_3_acc_3: 0.9999 - dense_3_acc_4: 1.0000 - dense_3_acc_5: 0.9957 - dense_3_acc_6: 0.9783 - dense_3_acc_7: 1.0000 - dense_3_acc_8: 0.9892 - dense_3_acc_9: 0.9825\n",
      "Epoch 46/50\n",
      "10000/10000 [==============================] - 13s 1ms/step - loss: 0.2589 - dense_3_loss: 0.0670 - dense_3_acc: 1.0000 - dense_3_acc_1: 0.9999 - dense_3_acc_2: 0.9971 - dense_3_acc_3: 1.0000 - dense_3_acc_4: 1.0000 - dense_3_acc_5: 0.9953 - dense_3_acc_6: 0.9775 - dense_3_acc_7: 1.0000 - dense_3_acc_8: 0.9903 - dense_3_acc_9: 0.9844\n",
      "Epoch 47/50\n"
     ]
    },
    {
     "name": "stdout",
     "output_type": "stream",
     "text": [
      "10000/10000 [==============================] - 13s 1ms/step - loss: 0.2500 - dense_3_loss: 0.0641 - dense_3_acc: 1.0000 - dense_3_acc_1: 0.9999 - dense_3_acc_2: 0.9977 - dense_3_acc_3: 0.9997 - dense_3_acc_4: 1.0000 - dense_3_acc_5: 0.9952 - dense_3_acc_6: 0.9791 - dense_3_acc_7: 1.0000 - dense_3_acc_8: 0.9907 - dense_3_acc_9: 0.9854\n",
      "Epoch 48/50\n",
      "10000/10000 [==============================] - 13s 1ms/step - loss: 0.2422 - dense_3_loss: 0.0621 - dense_3_acc: 1.0000 - dense_3_acc_1: 0.9999 - dense_3_acc_2: 0.9974 - dense_3_acc_3: 0.9999 - dense_3_acc_4: 1.0000 - dense_3_acc_5: 0.9952 - dense_3_acc_6: 0.9805 - dense_3_acc_7: 1.0000 - dense_3_acc_8: 0.9911 - dense_3_acc_9: 0.9854\n",
      "Epoch 49/50\n",
      "10000/10000 [==============================] - 13s 1ms/step - loss: 0.2355 - dense_3_loss: 0.0608 - dense_3_acc: 1.0000 - dense_3_acc_1: 0.9999 - dense_3_acc_2: 0.9978 - dense_3_acc_3: 1.0000 - dense_3_acc_4: 1.0000 - dense_3_acc_5: 0.9962 - dense_3_acc_6: 0.9804 - dense_3_acc_7: 1.0000 - dense_3_acc_8: 0.9919 - dense_3_acc_9: 0.9856\n",
      "Epoch 50/50\n",
      "10000/10000 [==============================] - 13s 1ms/step - loss: 0.2271 - dense_3_loss: 0.0573 - dense_3_acc: 1.0000 - dense_3_acc_1: 0.9999 - dense_3_acc_2: 0.9978 - dense_3_acc_3: 0.9999 - dense_3_acc_4: 1.0000 - dense_3_acc_5: 0.9958 - dense_3_acc_6: 0.9803 - dense_3_acc_7: 1.0000 - dense_3_acc_8: 0.9928 - dense_3_acc_9: 0.9868\n"
     ]
    },
    {
     "data": {
      "text/plain": [
       "<keras.callbacks.History at 0xb24f3d6a0>"
      ]
     },
     "execution_count": 18,
     "metadata": {},
     "output_type": "execute_result"
    }
   ],
   "source": [
    "model.fit([Xoh, s0, c0], outputs, epochs=50, batch_size=100)"
   ]
  },
  {
   "cell_type": "markdown",
   "metadata": {},
   "source": [
    "Let's now see the results on new examples."
   ]
  },
  {
   "cell_type": "code",
   "execution_count": 19,
   "metadata": {},
   "outputs": [
    {
     "name": "stdout",
     "output_type": "stream",
     "text": [
      "source: 3 May 1979\n",
      "output: 1979-05-03\n",
      "source: 5 April 09\n",
      "output: 2009-04-05\n",
      "source: 21th of August 2016\n",
      "output: 2016-08-20\n",
      "source: Tue 10 Jul 2007\n",
      "output: 2007-07-10\n",
      "source: Saturday May 9 2018\n",
      "output: 2018-05-09\n",
      "source: March 3 2001\n",
      "output: 2001-03-03\n",
      "source: March 3rd 2001\n",
      "output: 2001-03-03\n",
      "source: 1 March 2001\n",
      "output: 2001-03-01\n"
     ]
    }
   ],
   "source": [
    "EXAMPLES = ['3 May 1979', '5 April 09', '21th of August 2016', 'Tue 10 Jul 2007', 'Saturday May 9 2018', 'March 3 2001', 'March 3rd 2001', '1 March 2001']\n",
    "for example in EXAMPLES:\n",
    "    \n",
    "    source = string_to_int(example, Tx, human_vocab)\n",
    "    source = np.array(list(map(lambda x: to_categorical(x, num_classes=len(human_vocab)), source))).swapaxes(0,1)\n",
    "    source = (np.reshape(source, source.shape + (1,))).T\n",
    "    prediction = model.predict([source, s0, c0])\n",
    "    prediction = np.argmax(prediction, axis = -1)\n",
    "    output = [inv_machine_vocab[int(i)] for i in prediction]\n",
    "    \n",
    "    print(\"source:\", example)\n",
    "    print(\"output:\", ''.join(output))"
   ]
  }
 ],
 "metadata": {
  "coursera": {
   "course_slug": "nlp-sequence-models",
   "graded_item_id": "n16CQ",
   "launcher_item_id": "npjGi"
  },
  "kernelspec": {
   "display_name": "Python 3",
   "language": "python",
   "name": "python3"
  },
  "language_info": {
   "codemirror_mode": {
    "name": "ipython",
    "version": 3
   },
   "file_extension": ".py",
   "mimetype": "text/x-python",
   "name": "python",
   "nbconvert_exporter": "python",
   "pygments_lexer": "ipython3",
   "version": "3.6.6"
  }
 },
 "nbformat": 4,
 "nbformat_minor": 2
}
